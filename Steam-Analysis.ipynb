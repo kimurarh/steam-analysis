{
 "cells": [
  {
   "cell_type": "markdown",
   "id": "cathedral-toyota",
   "metadata": {},
   "source": [
    "# Steam Exploratory Analysis"
   ]
  },
  {
   "cell_type": "code",
   "execution_count": 1,
   "id": "criminal-potato",
   "metadata": {},
   "outputs": [],
   "source": [
    "import pandas as pd"
   ]
  },
  {
   "cell_type": "markdown",
   "id": "settled-mistress",
   "metadata": {},
   "source": [
    "# Loading and checking datasets"
   ]
  },
  {
   "cell_type": "markdown",
   "id": "simplified-expert",
   "metadata": {},
   "source": [
    "Datasets available on: https://www.kaggle.com/nikdavis/steam-store-games"
   ]
  },
  {
   "cell_type": "code",
   "execution_count": 2,
   "id": "verified-dakota",
   "metadata": {},
   "outputs": [
    {
     "data": {
      "text/html": [
       "<div>\n",
       "<style scoped>\n",
       "    .dataframe tbody tr th:only-of-type {\n",
       "        vertical-align: middle;\n",
       "    }\n",
       "\n",
       "    .dataframe tbody tr th {\n",
       "        vertical-align: top;\n",
       "    }\n",
       "\n",
       "    .dataframe thead th {\n",
       "        text-align: right;\n",
       "    }\n",
       "</style>\n",
       "<table border=\"1\" class=\"dataframe\">\n",
       "  <thead>\n",
       "    <tr style=\"text-align: right;\">\n",
       "      <th></th>\n",
       "      <th>appid</th>\n",
       "      <th>name</th>\n",
       "      <th>release_date</th>\n",
       "      <th>english</th>\n",
       "      <th>developer</th>\n",
       "      <th>publisher</th>\n",
       "      <th>platforms</th>\n",
       "      <th>required_age</th>\n",
       "      <th>categories</th>\n",
       "      <th>genres</th>\n",
       "      <th>steamspy_tags</th>\n",
       "      <th>achievements</th>\n",
       "      <th>positive_ratings</th>\n",
       "      <th>negative_ratings</th>\n",
       "      <th>average_playtime</th>\n",
       "      <th>median_playtime</th>\n",
       "      <th>owners</th>\n",
       "      <th>price</th>\n",
       "    </tr>\n",
       "  </thead>\n",
       "  <tbody>\n",
       "    <tr>\n",
       "      <th>0</th>\n",
       "      <td>10</td>\n",
       "      <td>Counter-Strike</td>\n",
       "      <td>2000-11-01</td>\n",
       "      <td>1</td>\n",
       "      <td>Valve</td>\n",
       "      <td>Valve</td>\n",
       "      <td>windows;mac;linux</td>\n",
       "      <td>0</td>\n",
       "      <td>Multi-player;Online Multi-Player;Local Multi-P...</td>\n",
       "      <td>Action</td>\n",
       "      <td>Action;FPS;Multiplayer</td>\n",
       "      <td>0</td>\n",
       "      <td>124534</td>\n",
       "      <td>3339</td>\n",
       "      <td>17612</td>\n",
       "      <td>317</td>\n",
       "      <td>10000000-20000000</td>\n",
       "      <td>7.19</td>\n",
       "    </tr>\n",
       "    <tr>\n",
       "      <th>1</th>\n",
       "      <td>20</td>\n",
       "      <td>Team Fortress Classic</td>\n",
       "      <td>1999-04-01</td>\n",
       "      <td>1</td>\n",
       "      <td>Valve</td>\n",
       "      <td>Valve</td>\n",
       "      <td>windows;mac;linux</td>\n",
       "      <td>0</td>\n",
       "      <td>Multi-player;Online Multi-Player;Local Multi-P...</td>\n",
       "      <td>Action</td>\n",
       "      <td>Action;FPS;Multiplayer</td>\n",
       "      <td>0</td>\n",
       "      <td>3318</td>\n",
       "      <td>633</td>\n",
       "      <td>277</td>\n",
       "      <td>62</td>\n",
       "      <td>5000000-10000000</td>\n",
       "      <td>3.99</td>\n",
       "    </tr>\n",
       "    <tr>\n",
       "      <th>2</th>\n",
       "      <td>30</td>\n",
       "      <td>Day of Defeat</td>\n",
       "      <td>2003-05-01</td>\n",
       "      <td>1</td>\n",
       "      <td>Valve</td>\n",
       "      <td>Valve</td>\n",
       "      <td>windows;mac;linux</td>\n",
       "      <td>0</td>\n",
       "      <td>Multi-player;Valve Anti-Cheat enabled</td>\n",
       "      <td>Action</td>\n",
       "      <td>FPS;World War II;Multiplayer</td>\n",
       "      <td>0</td>\n",
       "      <td>3416</td>\n",
       "      <td>398</td>\n",
       "      <td>187</td>\n",
       "      <td>34</td>\n",
       "      <td>5000000-10000000</td>\n",
       "      <td>3.99</td>\n",
       "    </tr>\n",
       "  </tbody>\n",
       "</table>\n",
       "</div>"
      ],
      "text/plain": [
       "   appid                   name release_date  english developer publisher  \\\n",
       "0     10         Counter-Strike   2000-11-01        1     Valve     Valve   \n",
       "1     20  Team Fortress Classic   1999-04-01        1     Valve     Valve   \n",
       "2     30          Day of Defeat   2003-05-01        1     Valve     Valve   \n",
       "\n",
       "           platforms  required_age  \\\n",
       "0  windows;mac;linux             0   \n",
       "1  windows;mac;linux             0   \n",
       "2  windows;mac;linux             0   \n",
       "\n",
       "                                          categories  genres  \\\n",
       "0  Multi-player;Online Multi-Player;Local Multi-P...  Action   \n",
       "1  Multi-player;Online Multi-Player;Local Multi-P...  Action   \n",
       "2              Multi-player;Valve Anti-Cheat enabled  Action   \n",
       "\n",
       "                  steamspy_tags  achievements  positive_ratings  \\\n",
       "0        Action;FPS;Multiplayer             0            124534   \n",
       "1        Action;FPS;Multiplayer             0              3318   \n",
       "2  FPS;World War II;Multiplayer             0              3416   \n",
       "\n",
       "   negative_ratings  average_playtime  median_playtime             owners  \\\n",
       "0              3339             17612              317  10000000-20000000   \n",
       "1               633               277               62   5000000-10000000   \n",
       "2               398               187               34   5000000-10000000   \n",
       "\n",
       "   price  \n",
       "0   7.19  \n",
       "1   3.99  \n",
       "2   3.99  "
      ]
     },
     "execution_count": 2,
     "metadata": {},
     "output_type": "execute_result"
    }
   ],
   "source": [
    "games_df = pd.read_csv('datasets/steam.csv')\n",
    "games_df.head(3)"
   ]
  },
  {
   "cell_type": "markdown",
   "id": "exempt-bridge",
   "metadata": {},
   "source": [
    "Columns:\n",
    "* <strong>appid</strong>: Unique identifier for each title;\n",
    "* <strong>name</strong>: Title of the game;\n",
    "* <strong>release_date</strong>: Release date in format YYYY-MM-DD;\n",
    "* <strong>english</strong>: Language support: 1 if is in English;\n",
    "* <strong>developer</strong>: Name(s) of the developer(s) (Semicolon delimited if multiple);\n",
    "* <strong>publisher</strong>: Name(s) of the publisher(s) (Semicolon delimited if multiple);\n",
    "* <strong>platforms</strong>: List of supported platforms (Windows, Mac, Linux) (Semicolon delimited);\n",
    "* <strong>required_age</strong>: Minimum required age according to PEGI UK standards. Many with 0 are unrated or unsupplied;\n",
    "* <strong>categories</strong>: List of game categories (Multi-player, Single-player, Online, etc.) (Semicolon delimited);\n",
    "* <strong>genres</strong>: List of games genres (Semicolon delimited);\n",
    "* <strong>steamspy_tags</strong>: List of top steamspy game tags, similar to genres but community voted (Semicolon delimited);\n",
    "* <strong>achievements</strong>: Number of in-games achievements;\n",
    "* <strong>positive_ratings</strong>: Number of positive ratings;\n",
    "* <strong>negative_ratings</strong>: Number of negative ratings;\n",
    "* <strong>average_playtime</strong>: Average user playtime;\n",
    "* <strong>median_playtime</strong>: Median user playtime;\n",
    "* <strong>owners</strong>: Estimated number of owners (Contains lower and upper bound);\n",
    "* <strong>price</strong>: Current full price of title in GBP (British pound sterling)."
   ]
  },
  {
   "cell_type": "code",
   "execution_count": 3,
   "id": "necessary-beijing",
   "metadata": {},
   "outputs": [
    {
     "name": "stdout",
     "output_type": "stream",
     "text": [
      "<class 'pandas.core.frame.DataFrame'>\n",
      "RangeIndex: 27075 entries, 0 to 27074\n",
      "Data columns (total 18 columns):\n",
      " #   Column            Non-Null Count  Dtype  \n",
      "---  ------            --------------  -----  \n",
      " 0   appid             27075 non-null  int64  \n",
      " 1   name              27075 non-null  object \n",
      " 2   release_date      27075 non-null  object \n",
      " 3   english           27075 non-null  int64  \n",
      " 4   developer         27075 non-null  object \n",
      " 5   publisher         27075 non-null  object \n",
      " 6   platforms         27075 non-null  object \n",
      " 7   required_age      27075 non-null  int64  \n",
      " 8   categories        27075 non-null  object \n",
      " 9   genres            27075 non-null  object \n",
      " 10  steamspy_tags     27075 non-null  object \n",
      " 11  achievements      27075 non-null  int64  \n",
      " 12  positive_ratings  27075 non-null  int64  \n",
      " 13  negative_ratings  27075 non-null  int64  \n",
      " 14  average_playtime  27075 non-null  int64  \n",
      " 15  median_playtime   27075 non-null  int64  \n",
      " 16  owners            27075 non-null  object \n",
      " 17  price             27075 non-null  float64\n",
      "dtypes: float64(1), int64(8), object(9)\n",
      "memory usage: 3.7+ MB\n"
     ]
    }
   ],
   "source": [
    "games_df.info()"
   ]
  },
  {
   "cell_type": "code",
   "execution_count": 4,
   "id": "enhanced-attention",
   "metadata": {},
   "outputs": [
    {
     "data": {
      "text/plain": [
       "appid               0\n",
       "name                0\n",
       "release_date        0\n",
       "english             0\n",
       "developer           0\n",
       "publisher           0\n",
       "platforms           0\n",
       "required_age        0\n",
       "categories          0\n",
       "genres              0\n",
       "steamspy_tags       0\n",
       "achievements        0\n",
       "positive_ratings    0\n",
       "negative_ratings    0\n",
       "average_playtime    0\n",
       "median_playtime     0\n",
       "owners              0\n",
       "price               0\n",
       "dtype: int64"
      ]
     },
     "execution_count": 4,
     "metadata": {},
     "output_type": "execute_result"
    }
   ],
   "source": [
    "games_df.isna().sum()"
   ]
  },
  {
   "cell_type": "code",
   "execution_count": 5,
   "id": "constant-independence",
   "metadata": {},
   "outputs": [
    {
     "data": {
      "text/html": [
       "<div>\n",
       "<style scoped>\n",
       "    .dataframe tbody tr th:only-of-type {\n",
       "        vertical-align: middle;\n",
       "    }\n",
       "\n",
       "    .dataframe tbody tr th {\n",
       "        vertical-align: top;\n",
       "    }\n",
       "\n",
       "    .dataframe thead th {\n",
       "        text-align: right;\n",
       "    }\n",
       "</style>\n",
       "<table border=\"1\" class=\"dataframe\">\n",
       "  <thead>\n",
       "    <tr style=\"text-align: right;\">\n",
       "      <th></th>\n",
       "      <th>steam_appid</th>\n",
       "      <th>detailed_description</th>\n",
       "      <th>about_the_game</th>\n",
       "      <th>short_description</th>\n",
       "    </tr>\n",
       "  </thead>\n",
       "  <tbody>\n",
       "    <tr>\n",
       "      <th>0</th>\n",
       "      <td>10</td>\n",
       "      <td>Play the world's number 1 online action game. ...</td>\n",
       "      <td>Play the world's number 1 online action game. ...</td>\n",
       "      <td>Play the world's number 1 online action game. ...</td>\n",
       "    </tr>\n",
       "    <tr>\n",
       "      <th>1</th>\n",
       "      <td>20</td>\n",
       "      <td>One of the most popular online action games of...</td>\n",
       "      <td>One of the most popular online action games of...</td>\n",
       "      <td>One of the most popular online action games of...</td>\n",
       "    </tr>\n",
       "    <tr>\n",
       "      <th>2</th>\n",
       "      <td>30</td>\n",
       "      <td>Enlist in an intense brand of Axis vs. Allied ...</td>\n",
       "      <td>Enlist in an intense brand of Axis vs. Allied ...</td>\n",
       "      <td>Enlist in an intense brand of Axis vs. Allied ...</td>\n",
       "    </tr>\n",
       "  </tbody>\n",
       "</table>\n",
       "</div>"
      ],
      "text/plain": [
       "   steam_appid                               detailed_description  \\\n",
       "0           10  Play the world's number 1 online action game. ...   \n",
       "1           20  One of the most popular online action games of...   \n",
       "2           30  Enlist in an intense brand of Axis vs. Allied ...   \n",
       "\n",
       "                                      about_the_game  \\\n",
       "0  Play the world's number 1 online action game. ...   \n",
       "1  One of the most popular online action games of...   \n",
       "2  Enlist in an intense brand of Axis vs. Allied ...   \n",
       "\n",
       "                                   short_description  \n",
       "0  Play the world's number 1 online action game. ...  \n",
       "1  One of the most popular online action games of...  \n",
       "2  Enlist in an intense brand of Axis vs. Allied ...  "
      ]
     },
     "execution_count": 5,
     "metadata": {},
     "output_type": "execute_result"
    }
   ],
   "source": [
    "description_df = pd.read_csv('datasets/steam_description_data.csv')\n",
    "description_df.head(3)"
   ]
  },
  {
   "cell_type": "code",
   "execution_count": 6,
   "id": "egyptian-fantasy",
   "metadata": {},
   "outputs": [
    {
     "name": "stdout",
     "output_type": "stream",
     "text": [
      "<class 'pandas.core.frame.DataFrame'>\n",
      "RangeIndex: 27334 entries, 0 to 27333\n",
      "Data columns (total 4 columns):\n",
      " #   Column                Non-Null Count  Dtype \n",
      "---  ------                --------------  ----- \n",
      " 0   steam_appid           27334 non-null  int64 \n",
      " 1   detailed_description  27334 non-null  object\n",
      " 2   about_the_game        27334 non-null  object\n",
      " 3   short_description     27334 non-null  object\n",
      "dtypes: int64(1), object(3)\n",
      "memory usage: 854.3+ KB\n"
     ]
    }
   ],
   "source": [
    "description_df.info()"
   ]
  },
  {
   "cell_type": "code",
   "execution_count": 7,
   "id": "balanced-profit",
   "metadata": {},
   "outputs": [
    {
     "data": {
      "text/plain": [
       "steam_appid             0\n",
       "detailed_description    0\n",
       "about_the_game          0\n",
       "short_description       0\n",
       "dtype: int64"
      ]
     },
     "execution_count": 7,
     "metadata": {},
     "output_type": "execute_result"
    }
   ],
   "source": [
    "description_df.isna().sum()"
   ]
  },
  {
   "cell_type": "markdown",
   "id": "popular-baptist",
   "metadata": {},
   "source": [
    "# Data Cleaning"
   ]
  },
  {
   "cell_type": "markdown",
   "id": "solar-listening",
   "metadata": {},
   "source": [
    "The 2 datasets we'll be exploring seem to be previously cleaned, so there are no missing values."
   ]
  },
  {
   "cell_type": "markdown",
   "id": "ahead-wireless",
   "metadata": {},
   "source": [
    "But there are a few things we're going to modify to make it easier to explore the data: \n",
    "- Split the 'release_date' into 'release_month' and 'release_year';\n",
    "- Calculate the estimated number of 'owners', currently this column contains a lower and upper bound."
   ]
  },
  {
   "cell_type": "markdown",
   "id": "formed-department",
   "metadata": {},
   "source": [
    "## Split 'release_date' column"
   ]
  },
  {
   "cell_type": "code",
   "execution_count": 16,
   "id": "growing-military",
   "metadata": {},
   "outputs": [],
   "source": [
    "games_df['release_year'] = games_df['release_date'].apply(lambda x:x.split('-')[0])\n",
    "games_df['release_month'] = games_df['release_date'].apply(lambda x:x.split('-')[1])\n",
    "games_df.drop('release_date', axis=1, inplace=True)"
   ]
  },
  {
   "cell_type": "markdown",
   "id": "found-packet",
   "metadata": {},
   "source": [
    "## Calculate the estimated number of 'owners'"
   ]
  },
  {
   "cell_type": "code",
   "execution_count": 48,
   "id": "secure-advantage",
   "metadata": {},
   "outputs": [],
   "source": [
    "games_df['owners'] = games_df['owners'].apply(lambda x:(int(x.split('-')[1]) + int(x.split('-')[0]))//2)"
   ]
  },
  {
   "cell_type": "markdown",
   "id": "theoretical-ghana",
   "metadata": {},
   "source": [
    "# Visualization"
   ]
  },
  {
   "cell_type": "code",
   "execution_count": null,
   "id": "inner-render",
   "metadata": {},
   "outputs": [],
   "source": []
  }
 ],
 "metadata": {
  "kernelspec": {
   "display_name": "Python 3",
   "language": "python",
   "name": "python3"
  },
  "language_info": {
   "codemirror_mode": {
    "name": "ipython",
    "version": 3
   },
   "file_extension": ".py",
   "mimetype": "text/x-python",
   "name": "python",
   "nbconvert_exporter": "python",
   "pygments_lexer": "ipython3",
   "version": "3.8.8"
  }
 },
 "nbformat": 4,
 "nbformat_minor": 5
}
